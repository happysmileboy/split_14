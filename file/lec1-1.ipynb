{
 "cells": [
  {
   "cell_type": "code",
   "execution_count": null,
   "metadata": {},
   "outputs": [],
   "source": []
  },
  {
   "cell_type": "markdown",
   "metadata": {},
   "source": [
    "# 자료형의 이해\n",
    "- 숫자형 (int, float)\n",
    "- 문자형 (string)\n",
    "- 리스트 (list)\n",
    "- 튜플 (tupple)\n",
    "- dictionary\n",
    "- bool\n",
    "\n"
   ]
  },
  {
   "cell_type": "markdown",
   "metadata": {},
   "source": [
    "### 숫자형\n",
    "#### 종류\n",
    "\n",
    "정수(integer)<br/>\n",
    "실수(floating-point)<br/>\n",
    "8진수,16진수<br/>\n",
    "\n",
    "정수형 : 1,2,3,4 ... <br/>\n",
    "실수형: 1.2 , 3.14, .....<br/>\n",
    "나누는 이유 - 데이터 크기 차이<br/>\n",
    "\n",
    "8,16진수는 있다는 것만 알아두자, 거의 사용하지 않는다<br/>\n",
    "\n",
    "#### 연산자\n",
    "사칙연산\n",
    "\n"
   ]
  },
  {
   "cell_type": "code",
   "execution_count": null,
   "metadata": {},
   "outputs": [],
   "source": [
    "\n",
    "a = a+1\n",
    "print(a)\n",
    "a/=1\n",
    "print(a)"
   ]
  },
  {
   "cell_type": "markdown",
   "metadata": {},
   "source": [
    "% : 나머지<br/>\n",
    "// : 몫<br/>\n",
    "** : 승<br/>\n",
    "\n",
    "a += 1 : a 1 증가 <br/>\n",
    "a -= 1 <br/>\n",
    "a *= 2 : 2배씩 증가 <br/>\n",
    " \n",
    "#### 연습문제\n",
    "- 60 65 78 의 평균 구하기"
   ]
  },
  {
   "cell_type": "code",
   "execution_count": null,
   "metadata": {},
   "outputs": [],
   "source": [
    "a = int(input())\n",
    "b = int(input())\n",
    "c = int(input())\n",
    "\n",
    "print( (a+b+c)/3 )"
   ]
  },
  {
   "cell_type": "markdown",
   "metadata": {},
   "source": [
    "- 어떤 자연수가 주어졌을 때 그 수가 자연수임을 확인하는 방법은?"
   ]
  },
  {
   "cell_type": "code",
   "execution_count": null,
   "metadata": {},
   "outputs": [],
   "source": []
  },
  {
   "cell_type": "markdown",
   "metadata": {},
   "source": [
    "### 문자열 자료형\n",
    "#### 문자열이란\n",
    "문자열(String)이란 문자, 단어 등으로 구성된 문자들의 집합을 의미한다.<br/>\n",
    "\n",
    "#### 만드는 법\n",
    "- 큰따옴표 1번 사용 \" \" <br/>\n",
    "- 작은 따옴표 1번 사용 ' ' <br/>\n",
    "- 큰따옴표 3번 사용 \"\"\" \"\"\" <br/>\n",
    "- 작은 따옴표 3번 사용 ''' ''' <br/>"
   ]
  },
  {
   "cell_type": "code",
   "execution_count": null,
   "metadata": {
    "scrolled": true
   },
   "outputs": [],
   "source": [
    "text1 = \"Python is easy\"\n",
    "text2 = 'Python is the best'\n",
    "print(text1)\n",
    "print(text2)\n",
    "print(text1, text2)"
   ]
  },
  {
   "cell_type": "markdown",
   "metadata": {},
   "source": [
    "\n",
    "#### 문자열에 안에 \" , ' 가 있으면?\n",
    "예시)<br/> \n",
    "Python's favorite food is apple.<br/>\n",
    "I say \"Python is easy.\"<br/>\n",
    "\n",
    "- 안의 따옴표와 다른 종류의 따옴표 사용\n",
    "- 백슬래시 사용(\"\\\")\n",
    "\n",
    "#### 여러 줄 하고 싶을 때\n",
    "- 문장 윗줄, 마지막줄에 따옴표 3번 사용<br/>"
   ]
  },
  {
   "cell_type": "code",
   "execution_count": null,
   "metadata": {},
   "outputs": [],
   "source": [
    "multiline = '''\n",
    "apple is red.\n",
    "bannna is yellow.\n",
    "sky is blue.\n",
    "'''\n",
    "print(multiline)"
   ]
  },
  {
   "cell_type": "code",
   "execution_count": null,
   "metadata": {},
   "outputs": [],
   "source": [
    "\n",
    "b= \"a is b\\nb is c\\ta is c\"\n",
    "print(b)"
   ]
  },
  {
   "cell_type": "markdown",
   "metadata": {},
   "source": [
    "- escape code 사용 <br/>\n",
    "대표적으로 \\n, \\t<br/>\n",
    "\n",
    "#### 문자열 연산\n",
    "+ : 문자열 더하기<br/>"
   ]
  },
  {
   "cell_type": "code",
   "execution_count": null,
   "metadata": {},
   "outputs": [],
   "source": [
    "head = \"Python \"\n",
    "tail = 'is easy'\n",
    "print(head + tail)"
   ]
  },
  {
   "cell_type": "markdown",
   "metadata": {},
   "source": [
    "* : 문자열 곱하기<br/>"
   ]
  },
  {
   "cell_type": "code",
   "execution_count": null,
   "metadata": {},
   "outputs": [],
   "source": [
    "text = \"Python\"\n",
    "print(text*2)"
   ]
  },
  {
   "cell_type": "code",
   "execution_count": null,
   "metadata": {},
   "outputs": [],
   "source": [
    "\n",
    "text = \"hello world\"\n",
    "print(\"=\"*50)\n",
    "print(text)\n",
    "print(line)"
   ]
  },
  {
   "cell_type": "markdown",
   "metadata": {},
   "source": [
    "#### 다양한 함수\n",
    "len() : 문자열 길이 출력"
   ]
  },
  {
   "cell_type": "code",
   "execution_count": null,
   "metadata": {},
   "outputs": [],
   "source": []
  },
  {
   "cell_type": "code",
   "execution_count": null,
   "metadata": {},
   "outputs": [],
   "source": [
    "text = \"Python is easy\"\n",
    "print(len(text))"
   ]
  },
  {
   "cell_type": "markdown",
   "metadata": {},
   "source": [
    "#### indexing 활용"
   ]
  },
  {
   "cell_type": "code",
   "execution_count": null,
   "metadata": {},
   "outputs": [],
   "source": [
    "text = \"Python is easy\"\n",
    "print(text[0])\n",
    "print(text[1])\n",
    "print(text[-2])"
   ]
  },
  {
   "cell_type": "markdown",
   "metadata": {},
   "source": [
    "0 부터 시작해서 끝까지 각각 index 가 있다<br/>\n",
    "-를 붙일 경우 끝에서 부터 읽는다는 의미<br/>\n",
    "\n",
    "### Slicing\n",
    "각 단어를 자르고 싶을 때 이용 <br/>"
   ]
  },
  {
   "cell_type": "code",
   "execution_count": null,
   "metadata": {},
   "outputs": [],
   "source": [
    "text = \"Python is easy\"\n",
    "\n",
    "print(text[0]+text[1]+text[2]+text[3]+text[4]+text[5])\n",
    "print(text[0:6]) \n",
    "print(text[:6])"
   ]
  },
  {
   "cell_type": "markdown",
   "metadata": {},
   "source": [
    "0:4 면 0 <= text[index] < 4 라는 의미\n",
    "\n",
    "아무 것도 안쓰는 건 끝까지라는 의미\n",
    "\n",
    "### 문자 바꾸기\n",
    "text에서 중간의 문자를 바꾸고 싶을 때는 어떻게 할까\n",
    "\n",
    "text = pithon\n",
    "i를 y로 바꾸고 싶을 때\n",
    "보통 text[1] = y 를 추가시키면 된다고 생각하지만 \n",
    "그렇지 않다.\n",
    "\n",
    "그럼 어떻게? (slicing을 이용하자)"
   ]
  },
  {
   "cell_type": "code",
   "execution_count": null,
   "metadata": {},
   "outputs": [],
   "source": [
    "text = 'python'\n",
    "newtext = text[0:1] + 'i' + text[2:]\n",
    "print(newtext)"
   ]
  },
  {
   "cell_type": "markdown",
   "metadata": {},
   "source": [
    "### Formatting\n",
    "문자열에서 특정 값만 계속 바꾸고 싶을 때 사용하는 방법<br/>\n",
    "온도 변화 등등\n",
    "\n",
    "- 1개의 값 넣기"
   ]
  },
  {
   "cell_type": "code",
   "execution_count": null,
   "metadata": {},
   "outputs": [],
   "source": [
    "a = int(input())\n",
    "text = \"There are %d apples.\" % a\n",
    "print(text)"
   ]
  },
  {
   "cell_type": "code",
   "execution_count": null,
   "metadata": {
    "scrolled": true
   },
   "outputs": [],
   "source": [
    "a = input()\n",
    "text = \"There are %s apples.\" % a\n",
    "print(text)"
   ]
  },
  {
   "cell_type": "markdown",
   "metadata": {},
   "source": [
    "포맷코드\n",
    "\n",
    "%s : 문자열(string) <br/>\n",
    "%c : 문자 1개(character)<br/>\n",
    "%d : 정수(integer)<br/>\n",
    "%f : 부동소수 (floating-point)<br/>\n",
    "%% : %자체 대입<br/>\n",
    "\n",
    "직접 수를 대입하는 방식보단 변수를 대입하는 방식이 더 많이 쓰임\n"
   ]
  },
  {
   "cell_type": "code",
   "execution_count": null,
   "metadata": {},
   "outputs": [],
   "source": [
    "\n",
    "text = \"There are %d apples.\" % a\n",
    "print(text)"
   ]
  },
  {
   "cell_type": "markdown",
   "metadata": {},
   "source": [
    "- 여러 개의 값 넣기"
   ]
  },
  {
   "cell_type": "code",
   "execution_count": null,
   "metadata": {},
   "outputs": [],
   "source": [
    "a = 3\n",
    "b = 's'\n",
    "text = \"There are %d apples, %s bananas. \" % (a,b)\n",
    "print(text)"
   ]
  },
  {
   "cell_type": "markdown",
   "metadata": {},
   "source": [
    "#### 포맷 코드와 숫자 함께 사용하기\n"
   ]
  },
  {
   "cell_type": "code",
   "execution_count": null,
   "metadata": {},
   "outputs": [],
   "source": [
    "print(\"%10s\" % \"hi\")\n",
    "\n",
    "print(\"%-10sjane.\" % 'hi')\n"
   ]
  },
  {
   "cell_type": "markdown",
   "metadata": {},
   "source": [
    "- 소수점 표현"
   ]
  },
  {
   "cell_type": "code",
   "execution_count": null,
   "metadata": {
    "scrolled": true
   },
   "outputs": [],
   "source": [
    "print(\"%0.4f\" % 3.42134234)\n",
    "print(\"%10.4f\" % 3.42134234)"
   ]
  },
  {
   "cell_type": "markdown",
   "metadata": {},
   "source": [
    "#### 포맷 함수 사용하기\n"
   ]
  },
  {
   "cell_type": "code",
   "execution_count": null,
   "metadata": {},
   "outputs": [],
   "source": [
    "\n",
    "\n",
    "print(\"I eat {0} apples\".format(3))\n",
    "\n",
    "number = 3 \n",
    "print( \"I eat {0} apples\".format(number))\n",
    "\n",
    "number = 10\n",
    "day= \"three\"\n",
    "print(\"I ate {0} apples. so I was sick for {1} days.\".format(number, day))\n",
    "\n",
    "print(\"I ate {number} apples. so I was sick for {day} days.\".format(number=10, day=3))"
   ]
  },
  {
   "cell_type": "markdown",
   "metadata": {},
   "source": [
    "#### 문자열 관련 함수\n",
    "- count : 문자 수 세기\n",
    "```python\n",
    "a = \"hobby\"\n",
    "a.count('b')\n",
    "2\n",
    "```\n",
    "\n",
    "- find : 위치 알려주기 (그 단어가 처음 나오는 곳)\n",
    "```python\n",
    "a = \"hobby\"\n",
    "a.find('b')\n",
    "2\n",
    "```\n",
    "\n",
    "- join : 문자 삽입\n",
    "```python\n",
    "a = \"hobby\"\n",
    "\",\".join(a)\n",
    "'h,o,b,b,y'\n",
    "```\n",
    "\n",
    "- upper, lower : 대문자, 소문자로 변경\n",
    "```python\n",
    "a = \"hobby\"\n",
    "a.upper()\n",
    "HOBBY\n",
    "a.lower()\n",
    "hobby\n",
    "```\n",
    "\n",
    "- replace : 문자열 바꾸기\n",
    "```python\n",
    "a = \"Python is easy\"\n",
    "a.replace(\"Python\",\"C++\")\n",
    "'C++ is easy\n",
    "```\n",
    "\n",
    "- split : 문자열 나누기\n",
    "```python\n",
    "a = \"Python is easy\"\n",
    "a.split()\n",
    "['Python', 'is', 'easy']\n",
    "```\n"
   ]
  },
  {
   "cell_type": "markdown",
   "metadata": {},
   "source": [
    "### 리스트 자료형\n",
    "\n",
    "#### 기본적인 리스트\n",
    " a = [1, 2, 3, 4, 5] <br/>\n",
    " 리스트 명 = [요소1, 요소2, 요소3 , ...]\n",
    " \n",
    "#### 리스트 인덱싱\n",
    "문자열의 인덱싱과 똑같다. <br/>\n",
    "순서대로 0,1,2,3,4 ... <br/>\n",
    "위의 예를 들면 a[0] = 1, a[1] = 2, a[2] = 3, a[-1]= 5, a[-2] = 4,. ...\n",
    "\n",
    "#### 리스트 안의 리스트\n",
    "a = [1, 2, 3, ['a', 'b', 'c']]"
   ]
  },
  {
   "cell_type": "code",
   "execution_count": null,
   "metadata": {},
   "outputs": [],
   "source": [
    "a = [1, 2, 3, ['a', 'b', 'c']]\n",
    "print(a[0])\n",
    "print(a[-1])\n",
    "print(a[3])\n",
    "print(a[3][0])\n",
    "print(a[-1][2])\n"
   ]
  },
  {
   "cell_type": "markdown",
   "metadata": {},
   "source": [
    "#### 리스트 슬라이싱\n",
    "문자열의 슬라이싱과 동일\n",
    "\n",
    "리스트 안의 리스트의 경우\n"
   ]
  },
  {
   "cell_type": "code",
   "execution_count": null,
   "metadata": {},
   "outputs": [],
   "source": [
    "a = [1, 2, 3, ['a', 'b', 'c'], 4, 5]\n",
    "print(a[2:5])\n",
    "print(a[3][:2])\n",
    "\n",
    "b = [1,2,a]\n",
    "c = [1,2,b]\n",
    "print(c)"
   ]
  },
  {
   "cell_type": "markdown",
   "metadata": {},
   "source": [
    "### 리스트 연산\n",
    "문자열과 동일\n",
    "\n",
    "- +\n",
    "- *\n",
    "\n",
    "단, 리스트 연산시 Type을 맞춰서 해야한다 <br/>\n",
    "(3 + \"hi\" = TypeError)\n",
    "\n",
    "- : <br/>\n",
    "a(:) : 전체 리스트 의미\n",
    "\n",
    "### 리스트 함수들\n",
    "\n",
    "- del <br/>\n",
    "del a[0] : 1번째 요소 값 삭제\n",
    "\n",
    "\n",
    "- append <br/>\n",
    "a.append(4) : a 리스트 마지막에 4추가"
   ]
  },
  {
   "cell_type": "code",
   "execution_count": null,
   "metadata": {},
   "outputs": [],
   "source": []
  },
  {
   "cell_type": "code",
   "execution_count": null,
   "metadata": {},
   "outputs": [],
   "source": [
    "a= [1,2,3]\n",
    "a.append(4)\n",
    "print(a)\n",
    "a.append([1,2])\n",
    "print(a)\n",
    "a.append(\"hi\")\n",
    "print(a)\n"
   ]
  },
  {
   "cell_type": "markdown",
   "metadata": {},
   "source": [
    "- sort <br/>\n",
    "a.sort() : a 리스트 안의 값들을 오름차순, 알파벳 순으로 정렬 (섞여 있을 경우는 안됨)"
   ]
  },
  {
   "cell_type": "code",
   "execution_count": null,
   "metadata": {},
   "outputs": [],
   "source": [
    "a = [1,2,4,3]\n",
    "b = ['a','c','b','d']\n",
    "c = [1,'b','a',2]\n",
    "a.sort()\n",
    "print(a)\n",
    "b.sort()\n",
    "print(b)\n",
    "c.sort()\n",
    "print(c)"
   ]
  },
  {
   "cell_type": "markdown",
   "metadata": {},
   "source": [
    "- reverse <br/>\n",
    "a.reverse() : a 리스트 를 뒤집음"
   ]
  },
  {
   "cell_type": "code",
   "execution_count": null,
   "metadata": {},
   "outputs": [],
   "source": [
    "a = [2,1,4,3]\n",
    "a.sort()\n",
    "a.reverse()\n",
    "print(a)"
   ]
  },
  {
   "cell_type": "markdown",
   "metadata": {},
   "source": [
    "- index <br/>\n",
    "a.index(3) : 3의  값은 몇번째 인덱스인가를 알려줌\n"
   ]
  },
  {
   "cell_type": "code",
   "execution_count": null,
   "metadata": {},
   "outputs": [],
   "source": [
    "a = [1,2,3,4]\n",
    "a.index(3)"
   ]
  },
  {
   "cell_type": "markdown",
   "metadata": {},
   "source": [
    "- insert<br/>\n",
    "a.insert(1,2) : 인덱스 1에 2의 값을 대입"
   ]
  },
  {
   "cell_type": "code",
   "execution_count": null,
   "metadata": {},
   "outputs": [],
   "source": [
    "a = [1,2]\n",
    "a.insert(1,3)\n",
    "print(a)"
   ]
  },
  {
   "cell_type": "markdown",
   "metadata": {},
   "source": [
    "- remove <br/>\n",
    "a.remove(3) : 그 값을 삭제<br/>\n",
    "(del 이랑 유사)\n",
    "\n",
    "- pop <br/> \n",
    "a.pop(1) : 인덱스 1의 값을 알려주고 삭제<br/>\n"
   ]
  },
  {
   "cell_type": "code",
   "execution_count": 6,
   "metadata": {},
   "outputs": [
    {
     "ename": "ValueError",
     "evalue": "list.remove(x): x not in list",
     "output_type": "error",
     "traceback": [
      "\u001b[1;31m---------------------------------------------------------------------------\u001b[0m",
      "\u001b[1;31mValueError\u001b[0m                                Traceback (most recent call last)",
      "\u001b[1;32m<ipython-input-6-d9f47b4ef605>\u001b[0m in \u001b[0;36m<module>\u001b[1;34m\u001b[0m\n\u001b[0;32m      1\u001b[0m \u001b[0ma\u001b[0m \u001b[1;33m=\u001b[0m \u001b[1;33m[\u001b[0m\u001b[1;36m1\u001b[0m\u001b[1;33m,\u001b[0m\u001b[1;36m2\u001b[0m\u001b[1;33m,\u001b[0m\u001b[1;36m3\u001b[0m\u001b[1;33m,\u001b[0m\u001b[1;36m4\u001b[0m\u001b[1;33m]\u001b[0m\u001b[1;33m\u001b[0m\u001b[1;33m\u001b[0m\u001b[0m\n\u001b[1;32m----> 2\u001b[1;33m \u001b[0ma\u001b[0m\u001b[1;33m.\u001b[0m\u001b[0mremove\u001b[0m\u001b[1;33m(\u001b[0m\u001b[1;36m0\u001b[0m\u001b[1;33m)\u001b[0m\u001b[1;33m\u001b[0m\u001b[1;33m\u001b[0m\u001b[0m\n\u001b[0m\u001b[0;32m      3\u001b[0m \u001b[0mprint\u001b[0m\u001b[1;33m(\u001b[0m\u001b[0ma\u001b[0m\u001b[1;33m)\u001b[0m\u001b[1;33m\u001b[0m\u001b[1;33m\u001b[0m\u001b[0m\n\u001b[0;32m      4\u001b[0m \u001b[0mprint\u001b[0m\u001b[1;33m(\u001b[0m\u001b[0ma\u001b[0m\u001b[1;33m.\u001b[0m\u001b[0mpop\u001b[0m\u001b[1;33m(\u001b[0m\u001b[1;36m1\u001b[0m\u001b[1;33m)\u001b[0m\u001b[1;33m)\u001b[0m\u001b[1;33m\u001b[0m\u001b[1;33m\u001b[0m\u001b[0m\n\u001b[0;32m      5\u001b[0m \u001b[0mprint\u001b[0m\u001b[1;33m(\u001b[0m\u001b[0ma\u001b[0m\u001b[1;33m)\u001b[0m\u001b[1;33m\u001b[0m\u001b[1;33m\u001b[0m\u001b[0m\n",
      "\u001b[1;31mValueError\u001b[0m: list.remove(x): x not in list"
     ]
    }
   ],
   "source": [
    "a = [1,2,3,4]\n",
    "a.remove(0)\n",
    "print(a)\n",
    "print(a.pop(1))\n",
    "print(a)\n",
    "\n",
    "b = [1,2,a]\n",
    "print(b)\n",
    "b.remove(a)\n",
    "print(b)"
   ]
  },
  {
   "cell_type": "markdown",
   "metadata": {},
   "source": [
    "- count <br/>\n",
    "a.count(1) : a 리스트 안에 1의 값이 몇 개 있는지 알려줌"
   ]
  },
  {
   "cell_type": "code",
   "execution_count": null,
   "metadata": {},
   "outputs": [],
   "source": [
    "a = [1,2,3,4,1,1]\n",
    "print(a.count(1))"
   ]
  },
  {
   "cell_type": "markdown",
   "metadata": {},
   "source": [
    "- extend <br/>\n",
    "a.extend([1,2]) : a 리스트 뒤에 새로운 리스트 추가"
   ]
  },
  {
   "cell_type": "code",
   "execution_count": null,
   "metadata": {},
   "outputs": [],
   "source": [
    "a = [1,2]\n",
    "a.extend([1,2])\n",
    "print(a)\n",
    "a.extend(a)\n",
    "print(a)\n",
    "a.extend([1])\n",
    "print(a)"
   ]
  },
  {
   "cell_type": "markdown",
   "metadata": {},
   "source": [
    "### 연습문제\n",
    "\n",
    "- [1,5,4,3,2] 를 내림차순으로 정렬해보자"
   ]
  },
  {
   "cell_type": "code",
   "execution_count": null,
   "metadata": {},
   "outputs": [],
   "source": []
  },
  {
   "cell_type": "markdown",
   "metadata": {},
   "source": [
    "- [1,1,1,1,2,3,3,3,4,5,5] 에서 중복 숫자를 제거해보자"
   ]
  },
  {
   "cell_type": "code",
   "execution_count": null,
   "metadata": {},
   "outputs": [],
   "source": []
  }
 ],
 "metadata": {
  "kernelspec": {
   "display_name": "Python 3",
   "language": "python",
   "name": "python3"
  },
  "language_info": {
   "codemirror_mode": {
    "name": "ipython",
    "version": 3
   },
   "file_extension": ".py",
   "mimetype": "text/x-python",
   "name": "python",
   "nbconvert_exporter": "python",
   "pygments_lexer": "ipython3",
   "version": "3.6.4"
  }
 },
 "nbformat": 4,
 "nbformat_minor": 4
}
