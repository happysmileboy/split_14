{
 "cells": [
  {
   "cell_type": "markdown",
   "metadata": {},
   "source": [
    "### 듀플(duple) 자료형\n",
    "\n",
    "듀플 명 = (요소 1, 요소 2, 요소 3, ...)\n",
    "\n",
    "리스트는 [] , 듀플은 ()\n",
    "\n",
    "듀플은 고정된 리스트다<br/>\n",
    "삭제나 삽입이 안 된다."
   ]
  },
  {
   "cell_type": "code",
   "execution_count": 9,
   "metadata": {},
   "outputs": [],
   "source": [
    "a = (1,2,3,4)\n",
    "# del a(1) "
   ]
  },
  {
   "cell_type": "markdown",
   "metadata": {},
   "source": [
    "### 딕셔너리(dictionary) 자료형\n",
    "이름 = 손준혁, 생일 = 950720, 운동 = 야구 등등 각 값들에 대해 대응하는 관계가 있다. <br/>\n",
    "이런 관계들에 대해 파이썬에서는 쉽게 자료형으로 제공하고 있다.\n",
    "\n",
    "{key1:value1, key2:value2, key3:value3 , ...}\n",
    "\n",
    "a = {'name' : 'jun', 'birth' : '951107' }\n",
    "\n",
    "key 값은 고정되는 값이고, value 값들은 변할 수도 고정될 수도 있다.<br/>\n",
    "key 에는 1,2,3 값은 정수값을 넣을수도 있고, value 에는 정수형, 리스트를 넣을 수도 있다.(key에 리스트는 안됨, 하지만 튜플은 됨)"
   ]
  },
  {
   "cell_type": "code",
   "execution_count": 10,
   "metadata": {},
   "outputs": [
    {
     "name": "stdout",
     "output_type": "stream",
     "text": [
      "{'name': 'jun', 'birth': '950720'}\n",
      "{1: 'jun', 'birth': [1, 2, 3]}\n",
      "{'name': 1, 'birth': '950720'}\n",
      "{'name': 'jun', (1, 2): '950720'}\n",
      "{'name': 'jun', (1, 2): '950720'}\n"
     ]
    }
   ],
   "source": [
    "a = {'name' : 'jun', 'birth' : '950720' }\n",
    "print(a)\n",
    "a = {1 : 'jun', 'birth' : [1,2,3] }\n",
    "print(a)\n",
    "a = {'name' : 1, 'birth' : '950720' }\n",
    "print(a)\n",
    "a = {'name' : 'jun', (1,2) : '950720' }\n",
    "print(a)\n",
    "# a = {'name' : 'jun', [1,2] : '950720' }\n",
    "print(a)\n"
   ]
  },
  {
   "cell_type": "markdown",
   "metadata": {},
   "source": [
    "#### 딕셔너리 추가\n",
    "a = {'name' : 'jun', 'birth' : '950720' }\n",
    "\n",
    "a[2] = 'b' : a 딕셔너리에 key가 2이고 value가 'b'인 쌍 추가\n"
   ]
  },
  {
   "cell_type": "code",
   "execution_count": 11,
   "metadata": {},
   "outputs": [
    {
     "name": "stdout",
     "output_type": "stream",
     "text": [
      "{'name': 'jun', 'birth': '950720', 'sport': 'volleyball'}\n"
     ]
    }
   ],
   "source": [
    "a = {'name' : 'jun', 'birth' : '950720' }\n",
    "a['sport'] = 'volleyball'\n",
    "print(a)"
   ]
  },
  {
   "cell_type": "markdown",
   "metadata": {},
   "source": [
    "#### 딕셔너리 삭제\n",
    "a = {'name' : 'kim', 'birth' : '951107' } <br/>\n",
    "del a['name'] : key = name 인 부분의 값 삭제 "
   ]
  },
  {
   "cell_type": "code",
   "execution_count": 12,
   "metadata": {},
   "outputs": [
    {
     "name": "stdout",
     "output_type": "stream",
     "text": [
      "{'birth': '950720'}\n"
     ]
    }
   ],
   "source": [
    "a = {'name' : 'jun', 'birth' : '950720' }\n",
    "del a['name']\n",
    "print(a)"
   ]
  },
  {
   "cell_type": "code",
   "execution_count": 13,
   "metadata": {},
   "outputs": [
    {
     "name": "stdout",
     "output_type": "stream",
     "text": [
      "{'name': 'son', 'birth': '950720'}\n"
     ]
    }
   ],
   "source": [
    "#### 같은 키가 있다면?\n",
    "a = {'name' : 'jun', 'name' : 'son', 'birth' : '950720' }\n",
    "print(a)\n",
    "\n",
    "\n",
    "#### 마지막 1가지의 value만 나두고 삭제됨"
   ]
  },
  {
   "cell_type": "markdown",
   "metadata": {},
   "source": [
    "#### 관련 함수들\n",
    "- keys <br/>\n",
    "a.keys() : key 값들만 알려줌"
   ]
  },
  {
   "cell_type": "code",
   "execution_count": 14,
   "metadata": {},
   "outputs": [
    {
     "name": "stdout",
     "output_type": "stream",
     "text": [
      "dict_keys(['name', 'birth'])\n"
     ]
    }
   ],
   "source": [
    "a = {'name' : 'jun', 'birth' : '950720' }\n",
    "print(a.keys())"
   ]
  },
  {
   "cell_type": "markdown",
   "metadata": {},
   "source": [
    "- values <br/>\n",
    "a.values() : value 값들만 알려줌"
   ]
  },
  {
   "cell_type": "code",
   "execution_count": 15,
   "metadata": {},
   "outputs": [
    {
     "name": "stdout",
     "output_type": "stream",
     "text": [
      "dict_values(['jun', '950720'])\n"
     ]
    }
   ],
   "source": [
    "a = {'name' : 'jun', 'birth' : '950720' }\n",
    "print(a.values())"
   ]
  },
  {
   "cell_type": "markdown",
   "metadata": {},
   "source": [
    "- items <br/>\n",
    "a.items() : key, value 쌍으로 얻기"
   ]
  },
  {
   "cell_type": "code",
   "execution_count": 16,
   "metadata": {},
   "outputs": [
    {
     "name": "stdout",
     "output_type": "stream",
     "text": [
      "dict_items([('name', 'jun'), ('birth', '950720')])\n"
     ]
    }
   ],
   "source": [
    "a = {'name' : 'jun', 'birth' : '950720' }\n",
    "print(a.items())"
   ]
  },
  {
   "cell_type": "markdown",
   "metadata": {},
   "source": [
    "- clear <br/>\n",
    "a.clear() : 모두 지우기"
   ]
  },
  {
   "cell_type": "code",
   "execution_count": 17,
   "metadata": {},
   "outputs": [
    {
     "name": "stdout",
     "output_type": "stream",
     "text": [
      "{}\n"
     ]
    }
   ],
   "source": [
    "a = {'name' : 'jun', 'birth' : '950720' }\n",
    "a.clear()\n",
    "print(a)"
   ]
  },
  {
   "cell_type": "markdown",
   "metadata": {},
   "source": [
    "- get <br/>\n",
    "a.get('name') : name 이라는 키에 해당하는 value 알려줌"
   ]
  },
  {
   "cell_type": "code",
   "execution_count": 18,
   "metadata": {},
   "outputs": [
    {
     "name": "stdout",
     "output_type": "stream",
     "text": [
      "jun\n",
      "jun\n",
      "None\n"
     ]
    },
    {
     "ename": "KeyError",
     "evalue": "'nam'",
     "output_type": "error",
     "traceback": [
      "\u001b[0;31m---------------------------------------------------------------------------\u001b[0m",
      "\u001b[0;31mKeyError\u001b[0m                                  Traceback (most recent call last)",
      "\u001b[0;32m<ipython-input-18-9c6f2f28b73a>\u001b[0m in \u001b[0;36m<module>\u001b[0;34m\u001b[0m\n\u001b[1;32m      7\u001b[0m \u001b[0;34m\u001b[0m\u001b[0m\n\u001b[1;32m      8\u001b[0m \u001b[0mprint\u001b[0m\u001b[0;34m(\u001b[0m\u001b[0ma\u001b[0m\u001b[0;34m.\u001b[0m\u001b[0mget\u001b[0m\u001b[0;34m(\u001b[0m\u001b[0;34m'nam'\u001b[0m\u001b[0;34m)\u001b[0m\u001b[0;34m)\u001b[0m\u001b[0;34m\u001b[0m\u001b[0m\n\u001b[0;32m----> 9\u001b[0;31m \u001b[0mprint\u001b[0m\u001b[0;34m(\u001b[0m\u001b[0ma\u001b[0m\u001b[0;34m[\u001b[0m\u001b[0;34m'nam'\u001b[0m\u001b[0;34m]\u001b[0m\u001b[0;34m)\u001b[0m\u001b[0;34m\u001b[0m\u001b[0m\n\u001b[0m",
      "\u001b[0;31mKeyError\u001b[0m: 'nam'"
     ]
    }
   ],
   "source": [
    "a = {'name' : 'jun', 'birth' : '950720' }\n",
    "print(a.get('name'))\n",
    "\n",
    "print(a['name'])\n",
    "\n",
    "##### 둘의 차이점 : 만약 존재하지 않는 key값을 부를 때 get은 None 을 출력하고 아래는 오류를 일으킨다.\n",
    "\n",
    "print(a.get('nam'))\n",
    "print(a['nam'])"
   ]
  },
  {
   "cell_type": "markdown",
   "metadata": {},
   "source": [
    "- in <br/>\n",
    "'name' in a : name 이라는 키가 a 딕셔너리 안에 있는지 확인"
   ]
  },
  {
   "cell_type": "code",
   "execution_count": null,
   "metadata": {},
   "outputs": [],
   "source": [
    "a = {'name' : 'jun', 'birth' : '950720' }\n",
    "print('jun' in a)\n",
    "print('name' in a)"
   ]
  },
  {
   "cell_type": "markdown",
   "metadata": {},
   "source": [
    "### 불(bool) 자료형\n",
    "\n",
    "True, False"
   ]
  },
  {
   "cell_type": "code",
   "execution_count": null,
   "metadata": {},
   "outputs": [],
   "source": [
    "print(2>1)\n",
    "print(2<1)"
   ]
  },
  {
   "cell_type": "markdown",
   "metadata": {},
   "source": [
    "비어 있거나 0이면 False 이다.\n",
    "![image.png](./123.png)"
   ]
  },
  {
   "cell_type": "code",
   "execution_count": null,
   "metadata": {},
   "outputs": [],
   "source": [
    "print(bool(\" \"))\n",
    "print(bool(\"\"))\n",
    "print(bool(1))\n",
    "print(bool(0))\n",
    "print(bool())\n",
    "print(bool([1,2]))\n",
    "print(bool([]))"
   ]
  },
  {
   "cell_type": "code",
   "execution_count": null,
   "metadata": {},
   "outputs": [],
   "source": []
  }
 ],
 "metadata": {
  "kernelspec": {
   "display_name": "Python 3",
   "language": "python",
   "name": "python3"
  },
  "language_info": {
   "codemirror_mode": {
    "name": "ipython",
    "version": 3
   },
   "file_extension": ".py",
   "mimetype": "text/x-python",
   "name": "python",
   "nbconvert_exporter": "python",
   "pygments_lexer": "ipython3",
   "version": "3.6.4"
  }
 },
 "nbformat": 4,
 "nbformat_minor": 4
}
